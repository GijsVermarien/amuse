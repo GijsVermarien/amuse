{
 "cells": [
  {
   "cell_type": "markdown",
   "metadata": {},
   "source": [
    "Calculations in OMUSE are done with quantities having units - the interfaces to simulation codes require it even. These quantities and their units are implemented as python classes and can be used almost everywere you would normaly use a number (or a numpy array). \n",
    "\n",
    "The units can be imported from the omuse.units module:"
   ]
  },
  {
   "cell_type": "code",
   "execution_count": 11,
   "metadata": {
    "collapsed": false
   },
   "outputs": [
    {
     "name": "stdout",
     "output_type": "stream",
     "text": [
      "\n"
     ]
    }
   ],
   "source": [
    "from omuse.units import units,constants"
   ]
  },
  {
   "cell_type": "markdown",
   "metadata": {},
   "source": [
    "By itself a unit is not so useful, they conform to a unit algebra which can be used to construct new units:"
   ]
  },
  {
   "cell_type": "code",
   "execution_count": 43,
   "metadata": {
    "collapsed": false
   },
   "outputs": [
    {
     "name": "stdout",
     "output_type": "stream",
     "text": [
      "m * m\n",
      "0.01 * m\n"
     ]
    }
   ],
   "source": [
    "m2=units.m*units.m\n",
    "cm=units.m/100\n",
    "print m2\n",
    "print cm"
   ]
  },
  {
   "cell_type": "markdown",
   "metadata": {},
   "source": [
    "You can create a *quantity* by typing a number and combining it with a unit using the bar `|` operator."
   ]
  },
  {
   "cell_type": "code",
   "execution_count": 9,
   "metadata": {
    "collapsed": false
   },
   "outputs": [
    {
     "name": "stdout",
     "output_type": "stream",
     "text": [
      "10.0 kg\n",
      "5.0 m**2\n"
     ]
    }
   ],
   "source": [
    "print 10. | units.kg\n",
    "print 5 | m2"
   ]
  },
  {
   "cell_type": "markdown",
   "metadata": {},
   "source": [
    "Most operations you can do on numbers, you can also perform on quantities. For example, assuming the earth is a sphere, let's calculate some properties:"
   ]
  },
  {
   "cell_type": "code",
   "execution_count": 12,
   "metadata": {
    "collapsed": false
   },
   "outputs": [
    {
     "name": "stdout",
     "output_type": "stream",
     "text": [
      "diameter : 12768000.0 m\n",
      "surface area : 5.12148164653e+14 m**2\n",
      "volume : 1.08985129438e+21 m**3\n"
     ]
    }
   ],
   "source": [
    "earth_radius = 6384 | units.km\n",
    "print \"diameter :\", earth_radius * 2\n",
    "print \"surface area :\", 4.0 * constants.pi * earth_radius**2\n",
    "print \"volume :\", 4.0 / 3.0 * constants.pi * earth_radius**3"
   ]
  },
  {
   "cell_type": "markdown",
   "metadata": {},
   "source": [
    "It is also possible to combine quantities with different units in a calculation. To continue our properties of the earth example, lets calcute it's density:"
   ]
  },
  {
   "cell_type": "code",
   "execution_count": 13,
   "metadata": {
    "collapsed": false
   },
   "outputs": [
    {
     "name": "stdout",
     "output_type": "stream",
     "text": [
      "density : 5479.82099098 m**-3 * kg\n"
     ]
    }
   ],
   "source": [
    "earth_mass = 5.97219e24 | units.kg\n",
    "earth_volume = 4.0 / 3.0 * constants.pi * earth_radius**3\n",
    "\n",
    "print \"density :\", earth_mass / earth_volume"
   ]
  },
  {
   "cell_type": "markdown",
   "metadata": {},
   "source": [
    "You will want to interact with other python libraries that simply cannot handle units. For those cases you can convert the quantity into a value of a specific unit:"
   ]
  },
  {
   "cell_type": "code",
   "execution_count": 5,
   "metadata": {
    "collapsed": false
   },
   "outputs": [
    {
     "name": "stdout",
     "output_type": "stream",
     "text": [
      "earth mass in gram : 5.97219e+27\n"
     ]
    }
   ],
   "source": [
    "print \"earth mass in gram :\", earth_mass.value_in(units.g)"
   ]
  },
  {
   "cell_type": "markdown",
   "metadata": {},
   "source": [
    "Conversion to a different unit is also supported:"
   ]
  },
  {
   "cell_type": "code",
   "execution_count": 16,
   "metadata": {
    "collapsed": false
   },
   "outputs": [
    {
     "name": "stdout",
     "output_type": "stream",
     "text": [
      "earth mass: 5.97219e+27 g\n"
     ]
    }
   ],
   "source": [
    "print \"earth mass:\", earth_mass.in_(units.g)"
   ]
  },
  {
   "cell_type": "markdown",
   "metadata": {},
   "source": [
    "Numpy arrays and python lists can also be converted to quantities. Once converted, the resulting vector quantities support a lot of numpy operations"
   ]
  },
  {
   "cell_type": "code",
   "execution_count": 20,
   "metadata": {
    "collapsed": false
   },
   "outputs": [
    {
     "name": "stdout",
     "output_type": "stream",
     "text": [
      "sum of masses:  6.0 kg\n"
     ]
    },
    {
     "data": {
      "text/plain": [
       "quantity<0.816496580928 kg>"
      ]
     },
     "execution_count": 20,
     "metadata": {},
     "output_type": "execute_result"
    }
   ],
   "source": [
    "masses = [1.,2.,3.] | units.kg\n",
    "print \"sum of masses: \", masses.sum()\n",
    "import numpy\n",
    "numpy.std(masses)"
   ]
  },
  {
   "cell_type": "markdown",
   "metadata": {},
   "source": [
    "You can create your own unit with a new name using the `units.named` function. This functions takes the name of the unit, a symbol for printing and the unit it is based on. You can define a unit to represent the volume of the earth"
   ]
  },
  {
   "cell_type": "code",
   "execution_count": 21,
   "metadata": {
    "collapsed": false
   },
   "outputs": [
    {
     "name": "stdout",
     "output_type": "stream",
     "text": [
      "1.0 EarthVol\n"
     ]
    }
   ],
   "source": [
    "earth_volume_unit = units.named('Vol-Earth', 'EarthVol', earth_volume.to_unit())\n",
    "print earth_volume.as_quantity_in(earth_volume_unit)"
   ]
  },
  {
   "cell_type": "markdown",
   "metadata": {},
   "source": [
    "Most operations on a vector quantity are elementwise. For example (As OMUSE uses numpy internally for these operations we refer to the numpy documentation, if you want to learn more):"
   ]
  },
  {
   "cell_type": "code",
   "execution_count": 25,
   "metadata": {
    "collapsed": false
   },
   "outputs": [
    {
     "name": "stdout",
     "output_type": "stream",
     "text": [
      "densities : [1000.0, 2000.0, 375.0] m**-3 * kg\n"
     ]
    }
   ],
   "source": [
    "sides = [ 10. , 10. , 20.] | units.cm\n",
    "volumes = radii**3\n",
    "print \"densities :\", (masses / volumes)"
   ]
  },
  {
   "cell_type": "markdown",
   "metadata": {},
   "source": [
    "Quantities become normal numbers or numpy arrays when the units cancel out in a calcution (You can use this fact, to replace a `value_in` function call with a division):"
   ]
  },
  {
   "cell_type": "code",
   "execution_count": 26,
   "metadata": {
    "collapsed": false
   },
   "outputs": [
    {
     "name": "stdout",
     "output_type": "stream",
     "text": [
      "[  9.17556372e-25   9.17556372e-25   7.34045098e-24]\n"
     ]
    }
   ],
   "source": [
    "print volumes / earth_volume"
   ]
  },
  {
   "cell_type": "markdown",
   "metadata": {},
   "source": [
    "Operations with incompatible units will fail:"
   ]
  },
  {
   "cell_type": "code",
   "execution_count": 27,
   "metadata": {
    "collapsed": false
   },
   "outputs": [
    {
     "ename": "IncompatibleUnitsException",
     "evalue": "Cannot express 1000000000.0 * m**3 in kg, the units do not have the same bases",
     "output_type": "error",
     "traceback": [
      "\u001b[0;31m---------------------------------------------------------------------------\u001b[0m",
      "\u001b[0;31mIncompatibleUnitsException\u001b[0m                Traceback (most recent call last)",
      "\u001b[0;32m<ipython-input-27-f7db6808f790>\u001b[0m in \u001b[0;36m<module>\u001b[0;34m()\u001b[0m\n\u001b[0;32m----> 1\u001b[0;31m \u001b[0;32mprint\u001b[0m \u001b[0mearth_mass\u001b[0m \u001b[0;34m+\u001b[0m \u001b[0mearth_volume\u001b[0m\u001b[0;34m\u001b[0m\u001b[0m\n\u001b[0m",
      "\u001b[0;32m/data2/pelupes/amuse/binary/omuse-20160922-Linux_x86_64/lib/python2.7/site-packages/amuse/units/quantities.pyc\u001b[0m in \u001b[0;36m__add__\u001b[0;34m(self, other)\u001b[0m\n\u001b[1;32m    103\u001b[0m         \u001b[0;32melse\u001b[0m\u001b[0;34m:\u001b[0m\u001b[0;34m\u001b[0m\u001b[0m\n\u001b[1;32m    104\u001b[0m             \u001b[0mother\u001b[0m \u001b[0;34m=\u001b[0m \u001b[0mto_quantity\u001b[0m\u001b[0;34m(\u001b[0m\u001b[0mother\u001b[0m\u001b[0;34m)\u001b[0m\u001b[0;34m\u001b[0m\u001b[0m\n\u001b[0;32m--> 105\u001b[0;31m             \u001b[0mfactor\u001b[0m \u001b[0;34m=\u001b[0m \u001b[0mother\u001b[0m\u001b[0;34m.\u001b[0m\u001b[0munit\u001b[0m\u001b[0;34m.\u001b[0m\u001b[0mconversion_factor_from\u001b[0m\u001b[0;34m(\u001b[0m\u001b[0mself\u001b[0m\u001b[0;34m.\u001b[0m\u001b[0munit\u001b[0m\u001b[0;34m)\u001b[0m\u001b[0;34m\u001b[0m\u001b[0m\n\u001b[0m\u001b[1;32m    106\u001b[0m             \u001b[0;32mreturn\u001b[0m \u001b[0mnew_quantity\u001b[0m\u001b[0;34m(\u001b[0m\u001b[0mself\u001b[0m\u001b[0;34m.\u001b[0m\u001b[0mnumber\u001b[0m \u001b[0;34m+\u001b[0m \u001b[0mfactor\u001b[0m\u001b[0;34m*\u001b[0m\u001b[0mother\u001b[0m\u001b[0;34m.\u001b[0m\u001b[0mnumber\u001b[0m\u001b[0;34m,\u001b[0m \u001b[0mself\u001b[0m\u001b[0;34m.\u001b[0m\u001b[0munit\u001b[0m\u001b[0;34m)\u001b[0m\u001b[0;34m\u001b[0m\u001b[0m\n\u001b[1;32m    107\u001b[0m     \u001b[0m__radd__\u001b[0m \u001b[0;34m=\u001b[0m \u001b[0m__add__\u001b[0m\u001b[0;34m\u001b[0m\u001b[0m\n",
      "\u001b[0;32m/data2/pelupes/amuse/binary/omuse-20160922-Linux_x86_64/lib/python2.7/site-packages/amuse/support/core.pyc\u001b[0m in \u001b[0;36mmemof\u001b[0;34m(*arg)\u001b[0m\n\u001b[1;32m    520\u001b[0m             \u001b[0;32mif\u001b[0m \u001b[0mlen\u001b[0m\u001b[0;34m(\u001b[0m\u001b[0mmemof\u001b[0m\u001b[0;34m.\u001b[0m\u001b[0md\u001b[0m\u001b[0;34m)\u001b[0m\u001b[0;34m>\u001b[0m\u001b[0;36m5000\u001b[0m\u001b[0;34m:\u001b[0m\u001b[0;34m\u001b[0m\u001b[0m\n\u001b[1;32m    521\u001b[0m                 \u001b[0;32mraise\u001b[0m \u001b[0mException\u001b[0m\u001b[0;34m(\u001b[0m\u001b[0;34m\"long memo dict:\"\u001b[0m\u001b[0;34m+\u001b[0m\u001b[0mstr\u001b[0m\u001b[0;34m(\u001b[0m\u001b[0mlen\u001b[0m\u001b[0;34m(\u001b[0m\u001b[0mmemof\u001b[0m\u001b[0;34m.\u001b[0m\u001b[0md\u001b[0m\u001b[0;34m)\u001b[0m\u001b[0;34m)\u001b[0m\u001b[0;34m)\u001b[0m\u001b[0;34m\u001b[0m\u001b[0m\n\u001b[0;32m--> 522\u001b[0;31m             \u001b[0mresult\u001b[0m\u001b[0;34m=\u001b[0m\u001b[0mf\u001b[0m\u001b[0;34m(\u001b[0m\u001b[0;34m*\u001b[0m\u001b[0marg\u001b[0m\u001b[0;34m)\u001b[0m\u001b[0;34m\u001b[0m\u001b[0m\n\u001b[0m\u001b[1;32m    523\u001b[0m             \u001b[0mmemof\u001b[0m\u001b[0;34m.\u001b[0m\u001b[0md\u001b[0m\u001b[0;34m[\u001b[0m\u001b[0marg\u001b[0m\u001b[0;34m]\u001b[0m\u001b[0;34m=\u001b[0m\u001b[0mresult\u001b[0m\u001b[0;34m\u001b[0m\u001b[0m\n\u001b[1;32m    524\u001b[0m             \u001b[0;32mreturn\u001b[0m \u001b[0mresult\u001b[0m\u001b[0;34m\u001b[0m\u001b[0m\n",
      "\u001b[0;32m/data2/pelupes/amuse/binary/omuse-20160922-Linux_x86_64/lib/python2.7/site-packages/amuse/units/core.pyc\u001b[0m in \u001b[0;36mconversion_factor_from\u001b[0;34m(self, x)\u001b[0m\n\u001b[1;32m    300\u001b[0m             \u001b[0;32mreturn\u001b[0m \u001b[0;36m1\u001b[0m\u001b[0;34m*\u001b[0m\u001b[0;34m(\u001b[0m\u001b[0mthis_factor\u001b[0m \u001b[0;34m==\u001b[0m \u001b[0mother_factor\u001b[0m\u001b[0;34m)\u001b[0m \u001b[0;32mor\u001b[0m \u001b[0mthis_factor\u001b[0m \u001b[0;34m/\u001b[0m \u001b[0mother_factor\u001b[0m\u001b[0;34m\u001b[0m\u001b[0m\n\u001b[1;32m    301\u001b[0m         \u001b[0;32melse\u001b[0m\u001b[0;34m:\u001b[0m\u001b[0;34m\u001b[0m\u001b[0m\n\u001b[0;32m--> 302\u001b[0;31m             \u001b[0;32mraise\u001b[0m \u001b[0mIncompatibleUnitsException\u001b[0m\u001b[0;34m(\u001b[0m\u001b[0mx\u001b[0m\u001b[0;34m,\u001b[0m \u001b[0mself\u001b[0m\u001b[0;34m)\u001b[0m\u001b[0;34m\u001b[0m\u001b[0m\n\u001b[0m\u001b[1;32m    303\u001b[0m \u001b[0;34m\u001b[0m\u001b[0m\n\u001b[1;32m    304\u001b[0m \u001b[0;34m\u001b[0m\u001b[0m\n",
      "\u001b[0;31mIncompatibleUnitsException\u001b[0m: Cannot express 1000000000.0 * m**3 in kg, the units do not have the same bases"
     ]
    }
   ],
   "source": [
    "print earth_mass + earth_volume"
   ]
  },
  {
   "cell_type": "markdown",
   "metadata": {
    "collapsed": false
   },
   "source": [
    "In addition to using the normal (S.I.) based unit system, there are cases where it is useful to be able to communicate \n",
    "with codes that internally use scaleless or under specified units without specifying a definite unit system, but \n",
    "with the advantages of using units (checking for consistency). Although the quantities involved do not have a specific unit base, they still have a dimension (mass, length etc.). In AMUSE we can use *generic units* in this case. In other words, you can specify if a value has a *mass*, *length* or *time* dimension, or any combination thereof, such as *length* per *time* etc."
   ]
  },
  {
   "cell_type": "code",
   "execution_count": 30,
   "metadata": {
    "collapsed": false
   },
   "outputs": [],
   "source": [
    "from amuse.units import generic_unit_system, generic_unit_converter"
   ]
  },
  {
   "cell_type": "markdown",
   "metadata": {},
   "source": [
    "Quantities with generic units work exactly the same as quantities with normal (**S.I.**) units."
   ]
  },
  {
   "cell_type": "code",
   "execution_count": 36,
   "metadata": {
    "collapsed": false
   },
   "outputs": [
    {
     "name": "stdout",
     "output_type": "stream",
     "text": [
      "0.005 length**2 * time**-2 * mass\n",
      "0.005\n"
     ]
    }
   ],
   "source": [
    "m = 1.0 | generic_unit_system.mass\n",
    "v = 0.1 | generic_unit_system.length / generic_unit_system.time\n",
    "print 0.5*m*v**2\n",
    "print (0.5*m*v**2).value_in(generic_unit_system.energy)"
   ]
  },
  {
   "cell_type": "markdown",
   "metadata": {},
   "source": [
    "A unit converter can be used to convert between the systems of units, the following defines a converter between a unit system with G=1, an Astronomical Unit = 1, and the solar mass = 1:"
   ]
  },
  {
   "cell_type": "code",
   "execution_count": 40,
   "metadata": {
    "collapsed": false
   },
   "outputs": [
    {
     "name": "stdout",
     "output_type": "stream",
     "text": [
      "Mass of the sun, scaled: 1.0 mass\n",
      "10 generic masses, in S.I.: 1.98892e+31 kg\n",
      "1 generic time, in S.I: 0.159141174195 yr\n",
      "10 km/s, in generic: 0.335700383529 length * time**-1\n"
     ]
    }
   ],
   "source": [
    "converter = generic_unit_converter.ConvertBetweenGenericAndSiUnits(1 | units.MSun, 1 | units.AU, constants.G)\n",
    "print \"Mass of the sun, scaled:\" , converter.to_generic(1 | units.MSun)\n",
    "print \"10 generic masses, in S.I.:\" , converter.to_si(10 | generic_unit_system.mass)\n",
    "print \"1 generic time, in S.I:\" , converter.to_si(1 | generic_unit_system.time).as_quantity_in(units.yr)\n",
    "print \"10 km/s, in generic:\" , converter.to_generic(10.0 | units.km / units.s)"
   ]
  },
  {
   "cell_type": "markdown",
   "metadata": {},
   "source": [
    "Converters can be defined with any combination of constraints, as long as they are not degenerate and span the \n",
    "unit space required."
   ]
  },
  {
   "cell_type": "code",
   "execution_count": 41,
   "metadata": {
    "collapsed": false
   },
   "outputs": [
    {
     "name": "stdout",
     "output_type": "stream",
     "text": [
      "2.17643740821e-08 kg\n",
      "5.39123788657e-44 s\n",
      "1.61625245768e-35 m\n",
      "1.87554586987e-18 C\n",
      "1.41678472104e+32 K\n"
     ]
    }
   ],
   "source": [
    "natural_units_convert = generic_unit_converter.ConvertBetweenGenericAndSiUnits(constants.c,\n",
    "                                  constants.G,\n",
    "                                  constants.hbar,\n",
    "                                  1/(4*numpy.pi*constants.eps0),\n",
    "                                  constants.kB)\n",
    "\n",
    "M = 1 | generic_unit_system.mass\n",
    "T = 1 | generic_unit_system.time\n",
    "L = 1 | generic_unit_system.length\n",
    "Q = 1 | generic_unit_system.charge\n",
    "THETA= 1| generic_unit_system.temperature\n",
    "\n",
    "print natural_units_convert.to_si(M).in_(units.kg)\n",
    "print natural_units_convert.to_si(T).in_(units.s)\n",
    "print natural_units_convert.to_si(L).in_(units.m)\n",
    "print natural_units_convert.to_si(Q).in_(units.C)\n",
    "print natural_units_convert.to_si(THETA).in_(units.K)"
   ]
  },
  {
   "cell_type": "code",
   "execution_count": null,
   "metadata": {
    "collapsed": true
   },
   "outputs": [],
   "source": []
  }
 ],
 "metadata": {
  "kernelspec": {
   "display_name": "Python 2",
   "language": "python",
   "name": "python2"
  },
  "language_info": {
   "codemirror_mode": {
    "name": "ipython",
    "version": 2
   },
   "file_extension": ".py",
   "mimetype": "text/x-python",
   "name": "python",
   "nbconvert_exporter": "python",
   "pygments_lexer": "ipython2",
   "version": "2.7.9"
  }
 },
 "nbformat": 4,
 "nbformat_minor": 0
}
